{
 "cells": [
  {
   "cell_type": "markdown",
   "metadata": {},
   "source": [
    "# Pinhole Camera Model\n",
    "## In Process\n",
    "\n",
    "\n",
    "As it turns out, the previous approach of divide pixels by FoV isn't entirely accurate. It's close enough for most purposes but if you want to be more accurate you have to do a bit more math. Special thanks to 254 (specifically Jared Russel and TomBot) for that math in this section because I'm pretty bad at math. I suggest their entire presentation on computer vision (https://docs.google.com/presentation/d/1ediRsI-oR3-kwawFJZ34_ZTlQS2SDBLjZasjzZ-eXbQ/pub?start=false&loop=false&slide=id.g12c083cffa_0_25) "
   ]
  },
  {
   "cell_type": "code",
   "execution_count": 17,
   "metadata": {
    "collapsed": false
   },
   "outputs": [
    {
     "name": "stdout",
     "output_type": "stream",
     "text": [
      "712.348148585\n"
     ]
    }
   ],
   "source": [
    "import math\n",
    "\n",
    "IMAGE_WIDTH = 640\n",
    "FOV = 60\n",
    "\n",
    "focal_length = IMAGE_WIDTH/(2*math.tan(math.degrees(FOV/2.0)))\n",
    "\n",
    "print focal_length"
   ]
  },
  {
   "cell_type": "code",
   "execution_count": null,
   "metadata": {
    "collapsed": true
   },
   "outputs": [],
   "source": []
  }
 ],
 "metadata": {
  "anaconda-cloud": {},
  "kernelspec": {
   "display_name": "Python [default]",
   "language": "python",
   "name": "python2"
  },
  "language_info": {
   "codemirror_mode": {
    "name": "ipython",
    "version": 2
   },
   "file_extension": ".py",
   "mimetype": "text/x-python",
   "name": "python",
   "nbconvert_exporter": "python",
   "pygments_lexer": "ipython2",
   "version": "2.7.12"
  }
 },
 "nbformat": 4,
 "nbformat_minor": 1
}
